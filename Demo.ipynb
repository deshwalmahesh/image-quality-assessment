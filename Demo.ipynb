{
 "cells": [
  {
   "cell_type": "code",
   "execution_count": 4,
   "id": "d77fd3a0-0afd-45d3-a8db-ce0440f62c30",
   "metadata": {},
   "outputs": [],
   "source": [
    "from api import *\n",
    "import requests\n",
    "from io import BytesIO"
   ]
  },
  {
   "cell_type": "code",
   "execution_count": 5,
   "id": "797073af-7e3e-4931-9810-bf14987e21c3",
   "metadata": {},
   "outputs": [],
   "source": [
    "nima_aesthetic = build_nima(\"./models/MobileNet/weights_mobilenet_aesthetic_0.07.hdf5\")\n",
    "nima_tech = build_nima(\"./models/MobileNet/weights_mobilenet_technical_0.11.hdf5\")"
   ]
  },
  {
   "cell_type": "code",
   "execution_count": 6,
   "id": "0e139ae9-3721-4f25-bde9-7fc46735ae65",
   "metadata": {},
   "outputs": [
    {
     "data": {
      "text/plain": [
       "(5.395036585628986, 5.653254088493213)"
      ]
     },
     "execution_count": 6,
     "metadata": {},
     "output_type": "execute_result"
    }
   ],
   "source": [
    "x = BytesIO(requests.get(\"https://images.unsplash.com/photo-1453728013993-6d66e9c9123a?ixlib=rb-1.2.1&ixid=MnwxMjA3fDB8MHxzZWFyY2h8Mnx8dmlld3xlbnwwfHwwfHw%3D&w=1000&q=80\").content)\n",
    "\n",
    "get_score(x, nima_tech), get_score(x, nima_aesthetic)"
   ]
  }
 ],
 "metadata": {
  "kernelspec": {
   "display_name": "Python 3 (ipykernel)",
   "language": "python",
   "name": "python3"
  },
  "language_info": {
   "codemirror_mode": {
    "name": "ipython",
    "version": 3
   },
   "file_extension": ".py",
   "mimetype": "text/x-python",
   "name": "python",
   "nbconvert_exporter": "python",
   "pygments_lexer": "ipython3",
   "version": "3.7.11"
  }
 },
 "nbformat": 4,
 "nbformat_minor": 5
}
